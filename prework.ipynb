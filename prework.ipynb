{
 "cells": [
  {
   "cell_type": "code",
   "execution_count": 4,
   "metadata": {},
   "outputs": [
    {
     "name": "stdout",
     "output_type": "stream",
     "text": [
      "{'Australia': [0.6, 0.33, 0.11, 0.14], 'France': [0.66, 0.78, 0.98, 0.2], 'Italy': [0.6], 'Brazil': [0.22, 0.22, 0.43], 'USA': [0.2, 0.5, 0.3], 'England': [0.45], 'Canada': [0.25, 0.3], 'Argentina': [0.22], 'Greece': [0.45, 0.66, 0.75, 0.99, 0.15, 0.66], 'Morocco': [0.29], 'Tunisia': [0.68, 0.56], 'Egypt': [0.99], 'Jamaica': [0.61, 0.65, 0.71], 'Switzerland': [0.73, 0.86, 0.84, 0.51, 0.99], 'Germany': [0.45, 0.49, 0.36]}\n"
     ]
    }
   ],
   "source": [
    "estimados_de_exito = { 'Australia': [0.6, 0.33, 0.11, 0.14], \n",
    "                      'France': [0.66, 0.78, 0.98, 0.2], \n",
    "                      'Italy': [0.6], \n",
    "                      'Brazil': [0.22, 0.22, 0.43], \n",
    "                      'USA': [0.2, 0.5, 0.3], \n",
    "                      'England': [0.45], \n",
    "                      'Canada': [0.25, 0.3],\n",
    "                      'Argentina': [0.22], \n",
    "                      'Greece': [0.45, 0.66, 0.75, 0.99, 0.15, 0.66],\n",
    "                      'Morocco': [0.29], \n",
    "                      'Tunisia': [0.68, 0.56], \n",
    "                      'Egypt': [0.99], \n",
    "                      'Jamaica': [0.61, 0.65, 0.71], \n",
    "                      'Switzerland': [0.73, 0.86, 0.84, 0.51, 0.99], \n",
    "                      'Germany': [0.45, 0.49, 0.36] }\n",
    "print(estimados_de_exito)"
   ]
  },
  {
   "cell_type": "code",
   "execution_count": 15,
   "metadata": {},
   "outputs": [
    {
     "name": "stdout",
     "output_type": "stream",
     "text": [
      "0.6566666666666666\n"
     ]
    }
   ],
   "source": [
    "promedio_jamaica = (0.61 + 0.65 + 0.71) / 3 \n",
    "print(promedio_jamaica)"
   ]
  },
  {
   "cell_type": "code",
   "execution_count": 18,
   "metadata": {},
   "outputs": [
    {
     "name": "stdout",
     "output_type": "stream",
     "text": [
      "0.657\n"
     ]
    }
   ],
   "source": [
    "prom_jamaica = round(sum(estimados_de_exito['Jamaica'])/len(estimados_de_exito['Jamaica']), 3)\n",
    "print(prom_jamaica)"
   ]
  },
  {
   "cell_type": "code",
   "execution_count": 19,
   "metadata": {},
   "outputs": [
    {
     "name": "stdout",
     "output_type": "stream",
     "text": [
      "[0.61, 0.65, 0.71]\n"
     ]
    }
   ],
   "source": [
    "nombre_de_pais = 'Jamaica'\n",
    "lista_de_jamaica = estimados_de_exito[nombre_de_pais] \n",
    "# Lista de las estimaciones para Jamaica \n",
    "print(lista_de_jamaica)"
   ]
  },
  {
   "cell_type": "code",
   "execution_count": 20,
   "metadata": {},
   "outputs": [
    {
     "name": "stdout",
     "output_type": "stream",
     "text": [
      "País: Jamaica , Promedio: 0.6566666666666666\n",
      "País: Jamaica , Mínimo: 0.61\n",
      "País: Jamaica , Máximo: 0.71\n"
     ]
    }
   ],
   "source": [
    "promedio_jamaica = sum(lista_de_jamaica)/len(lista_de_jamaica) \n",
    "minimo_jamaica = min(lista_de_jamaica) \n",
    "maximo_jamaica = max(lista_de_jamaica) \n",
    "print(\"País:\",nombre_de_pais,\", Promedio:\",promedio_jamaica) \n",
    "print(\"País:\",nombre_de_pais,\", Mínimo:\",minimo_jamaica) \n",
    "print(\"País:\",nombre_de_pais,\", Máximo:\",maximo_jamaica)"
   ]
  },
  {
   "cell_type": "code",
   "execution_count": 21,
   "metadata": {},
   "outputs": [
    {
     "name": "stdout",
     "output_type": "stream",
     "text": [
      "País: Jamaica , Promedio: 0.66\n",
      "País: Jamaica , Mínimo: 0.61\n",
      "País: Jamaica , Máximo: 0.71\n"
     ]
    }
   ],
   "source": [
    "promedio_jamaica = round(sum(lista_de_jamaica) / len(lista_de_jamaica),2) \n",
    "minimo_jamaica = round(min(lista_de_jamaica),2) \n",
    "maximo_jamaica = round(max(lista_de_jamaica),2) \n",
    "print(\"País:\",nombre_de_pais,\", Promedio:\",promedio_jamaica) \n",
    "print(\"País:\",nombre_de_pais,\", Mínimo:\",minimo_jamaica) \n",
    "print(\"País:\",nombre_de_pais,\", Máximo:\",maximo_jamaica)"
   ]
  },
  {
   "cell_type": "code",
   "execution_count": 26,
   "metadata": {},
   "outputs": [
    {
     "name": "stdout",
     "output_type": "stream",
     "text": [
      "{'Australia': 0.295, 'France': 0.655, 'Italy': 0.6, 'Brazil': 0.29, 'USA': 0.333, 'England': 0.45, 'Canada': 0.275, 'Argentina': 0.22, 'Greece': 0.61, 'Morocco': 0.29, 'Tunisia': 0.62, 'Egypt': 0.99, 'Jamaica': 0.657, 'Switzerland': 0.786, 'Germany': 0.433}\n"
     ]
    }
   ],
   "source": [
    "prom = {}\n",
    "for pais in estimados_de_exito:\n",
    "    prom[pais] = round(sum(estimados_de_exito[pais])/len(estimados_de_exito[pais]), 3)\n",
    "print(prom)"
   ]
  },
  {
   "cell_type": "code",
   "execution_count": 27,
   "metadata": {},
   "outputs": [
    {
     "name": "stdout",
     "output_type": "stream",
     "text": [
      "['Australia', 'France', 'Italy', 'Brazil', 'USA', 'England', 'Canada', 'Argentina', 'Greece', 'Morocco', 'Tunisia', 'Egypt', 'Jamaica', 'Switzerland', 'Germany']\n"
     ]
    }
   ],
   "source": [
    "# Obtener todas las llaves del diccionario de estimaciones de éxito \n",
    "lista_nombres_paises = list(estimados_de_exito.keys()) \n",
    "print(lista_nombres_paises)"
   ]
  },
  {
   "cell_type": "code",
   "execution_count": 29,
   "metadata": {},
   "outputs": [
    {
     "name": "stdout",
     "output_type": "stream",
     "text": [
      "--Comienza una iteración del bucle--\n",
      "Elemento de la lista de nombres de países, marcador de posición i = Australia\n",
      "Acceder al valor de diccionario estimados_de_exito[i]:  [0.6, 0.33, 0.11, 0.14]\n",
      "Promedio de la lista de estimados_de_exito[i]:  0.29500000000000004\n",
      "--Pasa a la siguiente iteración del bucle--\n",
      "\n",
      "--Comienza una iteración del bucle--\n",
      "Elemento de la lista de nombres de países, marcador de posición i = France\n",
      "Acceder al valor de diccionario estimados_de_exito[i]:  [0.66, 0.78, 0.98, 0.2]\n",
      "Promedio de la lista de estimados_de_exito[i]:  0.655\n",
      "--Pasa a la siguiente iteración del bucle--\n",
      "\n",
      "--Comienza una iteración del bucle--\n",
      "Elemento de la lista de nombres de países, marcador de posición i = Italy\n",
      "Acceder al valor de diccionario estimados_de_exito[i]:  [0.6]\n",
      "Promedio de la lista de estimados_de_exito[i]:  0.6\n",
      "--Pasa a la siguiente iteración del bucle--\n",
      "\n",
      "--Comienza una iteración del bucle--\n",
      "Elemento de la lista de nombres de países, marcador de posición i = Brazil\n",
      "Acceder al valor de diccionario estimados_de_exito[i]:  [0.22, 0.22, 0.43]\n",
      "Promedio de la lista de estimados_de_exito[i]:  0.29\n",
      "--Pasa a la siguiente iteración del bucle--\n",
      "\n",
      "--Comienza una iteración del bucle--\n",
      "Elemento de la lista de nombres de países, marcador de posición i = USA\n",
      "Acceder al valor de diccionario estimados_de_exito[i]:  [0.2, 0.5, 0.3]\n",
      "Promedio de la lista de estimados_de_exito[i]:  0.3333333333333333\n",
      "--Pasa a la siguiente iteración del bucle--\n",
      "\n",
      "--Comienza una iteración del bucle--\n",
      "Elemento de la lista de nombres de países, marcador de posición i = England\n",
      "Acceder al valor de diccionario estimados_de_exito[i]:  [0.45]\n",
      "Promedio de la lista de estimados_de_exito[i]:  0.45\n",
      "--Pasa a la siguiente iteración del bucle--\n",
      "\n",
      "--Comienza una iteración del bucle--\n",
      "Elemento de la lista de nombres de países, marcador de posición i = Canada\n",
      "Acceder al valor de diccionario estimados_de_exito[i]:  [0.25, 0.3]\n",
      "Promedio de la lista de estimados_de_exito[i]:  0.275\n",
      "--Pasa a la siguiente iteración del bucle--\n",
      "\n",
      "--Comienza una iteración del bucle--\n",
      "Elemento de la lista de nombres de países, marcador de posición i = Argentina\n",
      "Acceder al valor de diccionario estimados_de_exito[i]:  [0.22]\n",
      "Promedio de la lista de estimados_de_exito[i]:  0.22\n",
      "--Pasa a la siguiente iteración del bucle--\n",
      "\n",
      "--Comienza una iteración del bucle--\n",
      "Elemento de la lista de nombres de países, marcador de posición i = Greece\n",
      "Acceder al valor de diccionario estimados_de_exito[i]:  [0.45, 0.66, 0.75, 0.99, 0.15, 0.66]\n",
      "Promedio de la lista de estimados_de_exito[i]:  0.61\n",
      "--Pasa a la siguiente iteración del bucle--\n",
      "\n",
      "--Comienza una iteración del bucle--\n",
      "Elemento de la lista de nombres de países, marcador de posición i = Morocco\n",
      "Acceder al valor de diccionario estimados_de_exito[i]:  [0.29]\n",
      "Promedio de la lista de estimados_de_exito[i]:  0.29\n",
      "--Pasa a la siguiente iteración del bucle--\n",
      "\n",
      "--Comienza una iteración del bucle--\n",
      "Elemento de la lista de nombres de países, marcador de posición i = Tunisia\n",
      "Acceder al valor de diccionario estimados_de_exito[i]:  [0.68, 0.56]\n",
      "Promedio de la lista de estimados_de_exito[i]:  0.6200000000000001\n",
      "--Pasa a la siguiente iteración del bucle--\n",
      "\n",
      "--Comienza una iteración del bucle--\n",
      "Elemento de la lista de nombres de países, marcador de posición i = Egypt\n",
      "Acceder al valor de diccionario estimados_de_exito[i]:  [0.99]\n",
      "Promedio de la lista de estimados_de_exito[i]:  0.99\n",
      "--Pasa a la siguiente iteración del bucle--\n",
      "\n",
      "--Comienza una iteración del bucle--\n",
      "Elemento de la lista de nombres de países, marcador de posición i = Jamaica\n",
      "Acceder al valor de diccionario estimados_de_exito[i]:  [0.61, 0.65, 0.71]\n",
      "Promedio de la lista de estimados_de_exito[i]:  0.6566666666666666\n",
      "--Pasa a la siguiente iteración del bucle--\n",
      "\n",
      "--Comienza una iteración del bucle--\n",
      "Elemento de la lista de nombres de países, marcador de posición i = Switzerland\n",
      "Acceder al valor de diccionario estimados_de_exito[i]:  [0.73, 0.86, 0.84, 0.51, 0.99]\n",
      "Promedio de la lista de estimados_de_exito[i]:  0.7859999999999999\n",
      "--Pasa a la siguiente iteración del bucle--\n",
      "\n",
      "--Comienza una iteración del bucle--\n",
      "Elemento de la lista de nombres de países, marcador de posición i = Germany\n",
      "Acceder al valor de diccionario estimados_de_exito[i]:  [0.45, 0.49, 0.36]\n",
      "Promedio de la lista de estimados_de_exito[i]:  0.4333333333333333\n",
      "--Pasa a la siguiente iteración del bucle--\n",
      "\n"
     ]
    }
   ],
   "source": [
    "# Loop through all countries and calculate their mean success estimate \n",
    "for i in lista_nombres_paises: \n",
    "    print('--Comienza una iteración del bucle--') \n",
    "    print('Elemento de la lista de nombres de países, marcador de posición i = ' + i)\n",
    "    print('Acceder al valor de diccionario estimados_de_exito[i]: ', estimados_de_exito[i]) \n",
    "    print('Promedio de la lista de estimados_de_exito[i]: ', sum(estimados_de_exito[i]) / len(estimados_de_exito[i])) \n",
    "    print('--Pasa a la siguiente iteración del bucle--') \n",
    "    print()"
   ]
  },
  {
   "cell_type": "code",
   "execution_count": 31,
   "metadata": {},
   "outputs": [
    {
     "name": "stdout",
     "output_type": "stream",
     "text": [
      "--Comienza una iteración del bucle--\n",
      "Elemento de la lista de nombres de países, marcador de posición i = Australia\n",
      "Acceder al valor de diccionario estimados_de_exito[i]:  [0.6, 0.33, 0.11, 0.14]\n",
      "Máximo de la lista de estimados_de_exito[i]:  0.6\n",
      "Mínimo de la lista de estimados_de_exito[i]:  0.11\n",
      "--Pasa a la siguiente iteración del bucle--\n",
      "\n",
      "--Comienza una iteración del bucle--\n",
      "Elemento de la lista de nombres de países, marcador de posición i = France\n",
      "Acceder al valor de diccionario estimados_de_exito[i]:  [0.66, 0.78, 0.98, 0.2]\n",
      "Máximo de la lista de estimados_de_exito[i]:  0.98\n",
      "Mínimo de la lista de estimados_de_exito[i]:  0.2\n",
      "--Pasa a la siguiente iteración del bucle--\n",
      "\n",
      "--Comienza una iteración del bucle--\n",
      "Elemento de la lista de nombres de países, marcador de posición i = Italy\n",
      "Acceder al valor de diccionario estimados_de_exito[i]:  [0.6]\n",
      "Máximo de la lista de estimados_de_exito[i]:  0.6\n",
      "Mínimo de la lista de estimados_de_exito[i]:  0.6\n",
      "--Pasa a la siguiente iteración del bucle--\n",
      "\n",
      "--Comienza una iteración del bucle--\n",
      "Elemento de la lista de nombres de países, marcador de posición i = Brazil\n",
      "Acceder al valor de diccionario estimados_de_exito[i]:  [0.22, 0.22, 0.43]\n",
      "Máximo de la lista de estimados_de_exito[i]:  0.43\n",
      "Mínimo de la lista de estimados_de_exito[i]:  0.22\n",
      "--Pasa a la siguiente iteración del bucle--\n",
      "\n",
      "--Comienza una iteración del bucle--\n",
      "Elemento de la lista de nombres de países, marcador de posición i = USA\n",
      "Acceder al valor de diccionario estimados_de_exito[i]:  [0.2, 0.5, 0.3]\n",
      "Máximo de la lista de estimados_de_exito[i]:  0.5\n",
      "Mínimo de la lista de estimados_de_exito[i]:  0.2\n",
      "--Pasa a la siguiente iteración del bucle--\n",
      "\n",
      "--Comienza una iteración del bucle--\n",
      "Elemento de la lista de nombres de países, marcador de posición i = England\n",
      "Acceder al valor de diccionario estimados_de_exito[i]:  [0.45]\n",
      "Máximo de la lista de estimados_de_exito[i]:  0.45\n",
      "Mínimo de la lista de estimados_de_exito[i]:  0.45\n",
      "--Pasa a la siguiente iteración del bucle--\n",
      "\n",
      "--Comienza una iteración del bucle--\n",
      "Elemento de la lista de nombres de países, marcador de posición i = Canada\n",
      "Acceder al valor de diccionario estimados_de_exito[i]:  [0.25, 0.3]\n",
      "Máximo de la lista de estimados_de_exito[i]:  0.3\n",
      "Mínimo de la lista de estimados_de_exito[i]:  0.25\n",
      "--Pasa a la siguiente iteración del bucle--\n",
      "\n",
      "--Comienza una iteración del bucle--\n",
      "Elemento de la lista de nombres de países, marcador de posición i = Argentina\n",
      "Acceder al valor de diccionario estimados_de_exito[i]:  [0.22]\n",
      "Máximo de la lista de estimados_de_exito[i]:  0.22\n",
      "Mínimo de la lista de estimados_de_exito[i]:  0.22\n",
      "--Pasa a la siguiente iteración del bucle--\n",
      "\n",
      "--Comienza una iteración del bucle--\n",
      "Elemento de la lista de nombres de países, marcador de posición i = Greece\n",
      "Acceder al valor de diccionario estimados_de_exito[i]:  [0.45, 0.66, 0.75, 0.99, 0.15, 0.66]\n",
      "Máximo de la lista de estimados_de_exito[i]:  0.99\n",
      "Mínimo de la lista de estimados_de_exito[i]:  0.15\n",
      "--Pasa a la siguiente iteración del bucle--\n",
      "\n",
      "--Comienza una iteración del bucle--\n",
      "Elemento de la lista de nombres de países, marcador de posición i = Morocco\n",
      "Acceder al valor de diccionario estimados_de_exito[i]:  [0.29]\n",
      "Máximo de la lista de estimados_de_exito[i]:  0.29\n",
      "Mínimo de la lista de estimados_de_exito[i]:  0.29\n",
      "--Pasa a la siguiente iteración del bucle--\n",
      "\n",
      "--Comienza una iteración del bucle--\n",
      "Elemento de la lista de nombres de países, marcador de posición i = Tunisia\n",
      "Acceder al valor de diccionario estimados_de_exito[i]:  [0.68, 0.56]\n",
      "Máximo de la lista de estimados_de_exito[i]:  0.68\n",
      "Mínimo de la lista de estimados_de_exito[i]:  0.56\n",
      "--Pasa a la siguiente iteración del bucle--\n",
      "\n",
      "--Comienza una iteración del bucle--\n",
      "Elemento de la lista de nombres de países, marcador de posición i = Egypt\n",
      "Acceder al valor de diccionario estimados_de_exito[i]:  [0.99]\n",
      "Máximo de la lista de estimados_de_exito[i]:  0.99\n",
      "Mínimo de la lista de estimados_de_exito[i]:  0.99\n",
      "--Pasa a la siguiente iteración del bucle--\n",
      "\n",
      "--Comienza una iteración del bucle--\n",
      "Elemento de la lista de nombres de países, marcador de posición i = Jamaica\n",
      "Acceder al valor de diccionario estimados_de_exito[i]:  [0.61, 0.65, 0.71]\n",
      "Máximo de la lista de estimados_de_exito[i]:  0.71\n",
      "Mínimo de la lista de estimados_de_exito[i]:  0.61\n",
      "--Pasa a la siguiente iteración del bucle--\n",
      "\n",
      "--Comienza una iteración del bucle--\n",
      "Elemento de la lista de nombres de países, marcador de posición i = Switzerland\n",
      "Acceder al valor de diccionario estimados_de_exito[i]:  [0.73, 0.86, 0.84, 0.51, 0.99]\n",
      "Máximo de la lista de estimados_de_exito[i]:  0.99\n",
      "Mínimo de la lista de estimados_de_exito[i]:  0.51\n",
      "--Pasa a la siguiente iteración del bucle--\n",
      "\n",
      "--Comienza una iteración del bucle--\n",
      "Elemento de la lista de nombres de países, marcador de posición i = Germany\n",
      "Acceder al valor de diccionario estimados_de_exito[i]:  [0.45, 0.49, 0.36]\n",
      "Máximo de la lista de estimados_de_exito[i]:  0.49\n",
      "Mínimo de la lista de estimados_de_exito[i]:  0.36\n",
      "--Pasa a la siguiente iteración del bucle--\n",
      "\n"
     ]
    }
   ],
   "source": [
    "# Loop through all countries and calculate their max and min success estimate \n",
    "for i in lista_nombres_paises: \n",
    "    print('--Comienza una iteración del bucle--') \n",
    "    print('Elemento de la lista de nombres de países, marcador de posición i = ' + i)\n",
    "    print('Acceder al valor de diccionario estimados_de_exito[i]: ', estimados_de_exito[i]) \n",
    "    print('Máximo de la lista de estimados_de_exito[i]: ', max(estimados_de_exito[i]))\n",
    "    print('Mínimo de la lista de estimados_de_exito[i]: ', min(estimados_de_exito[i]))\n",
    "    print('--Pasa a la siguiente iteración del bucle--') \n",
    "    print()"
   ]
  },
  {
   "cell_type": "code",
   "execution_count": 42,
   "metadata": {},
   "outputs": [
    {
     "name": "stdout",
     "output_type": "stream",
     "text": [
      "Australia  tiene un rango de:  0.49\n",
      "France  tiene un rango de:  0.78\n",
      "Italy  tiene un rango de:  0.0\n",
      "Brazil  tiene un rango de:  0.21\n",
      "USA  tiene un rango de:  0.3\n",
      "England  tiene un rango de:  0.0\n",
      "Canada  tiene un rango de:  0.05\n",
      "Argentina  tiene un rango de:  0.0\n",
      "Greece  tiene un rango de:  0.84\n",
      "Morocco  tiene un rango de:  0.0\n",
      "Tunisia  tiene un rango de:  0.12\n",
      "Egypt  tiene un rango de:  0.0\n",
      "Jamaica  tiene un rango de:  0.1\n",
      "Switzerland  tiene un rango de:  0.48\n",
      "Germany  tiene un rango de:  0.13\n"
     ]
    }
   ],
   "source": [
    "for pais in estimados_de_exito:\n",
    "    rango = round(max(estimados_de_exito[pais]) - min(estimados_de_exito[pais]), 3)\n",
    "    print(pais, \" tiene un rango de: \", rango)"
   ]
  },
  {
   "cell_type": "code",
   "execution_count": 43,
   "metadata": {},
   "outputs": [
    {
     "name": "stdout",
     "output_type": "stream",
     "text": [
      "El país con el mayor rango de estimaciones de éxito es:  Greece\n"
     ]
    }
   ],
   "source": [
    "rango = {}\n",
    "for i in estimados_de_exito: \n",
    "    rango[i] = max(estimados_de_exito[i]) - min(estimados_de_exito[i])\n",
    "for j in rango:\n",
    "    if rango[j] == max(rango.values()):\n",
    "        print('El país con el mayor rango de estimaciones de éxito es: ', j)  "
   ]
  },
  {
   "cell_type": "code",
   "execution_count": 45,
   "metadata": {},
   "outputs": [
    {
     "data": {
      "text/plain": [
       "['Australia',\n",
       " 'France',\n",
       " 'Italy',\n",
       " 'Brazil',\n",
       " 'USA',\n",
       " 'England',\n",
       " 'Canada',\n",
       " 'Argentina',\n",
       " 'Greece',\n",
       " 'Morocco',\n",
       " 'Tunisia',\n",
       " 'Egypt',\n",
       " 'Jamaica',\n",
       " 'Switzerland',\n",
       " 'Germany']"
      ]
     },
     "execution_count": 45,
     "metadata": {},
     "output_type": "execute_result"
    }
   ],
   "source": [
    "lista_nombres_llave = [i for i in estimados_de_exito] \n",
    "# Pasa por cada elemento i en las estimaciones de éxito y lo coloca en la lista \n",
    "lista_nombres_llave"
   ]
  },
  {
   "cell_type": "code",
   "execution_count": 46,
   "metadata": {},
   "outputs": [
    {
     "data": {
      "text/plain": [
       "[[0.6, 0.33, 0.11, 0.14],\n",
       " [0.66, 0.78, 0.98, 0.2],\n",
       " [0.6],\n",
       " [0.22, 0.22, 0.43],\n",
       " [0.2, 0.5, 0.3],\n",
       " [0.45],\n",
       " [0.25, 0.3],\n",
       " [0.22],\n",
       " [0.45, 0.66, 0.75, 0.99, 0.15, 0.66],\n",
       " [0.29],\n",
       " [0.68, 0.56],\n",
       " [0.99],\n",
       " [0.61, 0.65, 0.71],\n",
       " [0.73, 0.86, 0.84, 0.51, 0.99],\n",
       " [0.45, 0.49, 0.36]]"
      ]
     },
     "execution_count": 46,
     "metadata": {},
     "output_type": "execute_result"
    }
   ],
   "source": [
    "lista_valores = [estimados_de_exito[pais] for pais in estimados_de_exito] \n",
    "# hace un bucle sobre cada elemento en \"estimados_de_exito\" y pone \"estimados_de_exito[i]\" en la lista \n",
    "lista_valores"
   ]
  },
  {
   "cell_type": "code",
   "execution_count": 47,
   "metadata": {},
   "outputs": [
    {
     "data": {
      "text/plain": [
       "[['Australia', 4],\n",
       " ['France', 4],\n",
       " ['Italy', 1],\n",
       " ['Brazil', 3],\n",
       " ['USA', 3],\n",
       " ['England', 1],\n",
       " ['Canada', 2],\n",
       " ['Argentina', 1],\n",
       " ['Greece', 6],\n",
       " ['Morocco', 1],\n",
       " ['Tunisia', 2],\n",
       " ['Egypt', 1],\n",
       " ['Jamaica', 3],\n",
       " ['Switzerland', 5],\n",
       " ['Germany', 3]]"
      ]
     },
     "execution_count": 47,
     "metadata": {},
     "output_type": "execute_result"
    }
   ],
   "source": [
    "# Número de estimaciones disponibles para cada país \n",
    "[[i, len(estimados_de_exito[i])] for i in estimados_de_exito]"
   ]
  },
  {
   "cell_type": "code",
   "execution_count": 51,
   "metadata": {},
   "outputs": [
    {
     "data": {
      "text/plain": [
       "[['Australia', 0.5005999999999999],\n",
       " ['France', 2.0444],\n",
       " ['Italy', 0.36],\n",
       " ['Brazil', 0.28169999999999995],\n",
       " ['USA', 0.38],\n",
       " ['England', 0.2025],\n",
       " ['Canada', 0.1525],\n",
       " ['Argentina', 0.0484],\n",
       " ['Greece', 2.6388],\n",
       " ['Morocco', 0.0841],\n",
       " ['Tunisia', 0.7760000000000001],\n",
       " ['Egypt', 0.9801],\n",
       " ['Jamaica', 1.2987],\n",
       " ['Switzerland', 3.2183],\n",
       " ['Germany', 0.5722]]"
      ]
     },
     "execution_count": 51,
     "metadata": {},
     "output_type": "execute_result"
    }
   ],
   "source": [
    "[[i, sum([j**2 for j in estimados_de_exito[i]])] for i in estimados_de_exito]"
   ]
  },
  {
   "cell_type": "code",
   "execution_count": 54,
   "metadata": {},
   "outputs": [
    {
     "data": {
      "text/plain": [
       "[['Australia', [0.3, 0.03, -0.19, -0.16]],\n",
       " ['France', [0.01, 0.12, 0.32, -0.46]],\n",
       " ['Italy', [0.0]],\n",
       " ['Brazil', [-0.07, -0.07, 0.14]],\n",
       " ['USA', [-0.13, 0.17, -0.03]],\n",
       " ['England', [0.0]],\n",
       " ['Canada', [-0.03, 0.02]],\n",
       " ['Argentina', [0.0]],\n",
       " ['Greece', [-0.16, 0.05, 0.14, 0.38, -0.46, 0.05]],\n",
       " ['Morocco', [0.0]],\n",
       " ['Tunisia', [0.06, -0.06]],\n",
       " ['Egypt', [0.0]],\n",
       " ['Jamaica', [-0.05, -0.01, 0.05]],\n",
       " ['Switzerland', [-0.06, 0.07, 0.05, -0.28, 0.2]],\n",
       " ['Germany', [0.02, 0.06, -0.07]]]"
      ]
     },
     "execution_count": 54,
     "metadata": {},
     "output_type": "execute_result"
    }
   ],
   "source": [
    "removed_mean_list = [[i, [round(j - sum(estimados_de_exito[i])/len(estimados_de_exito[i]),2) for j in estimados_de_exito[i]]] for i in estimados_de_exito]\n",
    "removed_mean_list"
   ]
  },
  {
   "cell_type": "code",
   "execution_count": 57,
   "metadata": {},
   "outputs": [
    {
     "name": "stdout",
     "output_type": "stream",
     "text": [
      "False\n",
      "True\n"
     ]
    }
   ],
   "source": [
    "italy = estimados_de_exito['Italy'] \n",
    "jamaica = estimados_de_exito['Jamaica']\n",
    "print(len(italy) > 1) \n",
    "print(len(jamaica) > 1)"
   ]
  },
  {
   "cell_type": "code",
   "execution_count": 58,
   "metadata": {},
   "outputs": [
    {
     "name": "stdout",
     "output_type": "stream",
     "text": [
      "Jamaica tiene más de un estimado\n"
     ]
    }
   ],
   "source": [
    "if len(italy) > 1: print(\"Italy tiene más de un estimado\")\n",
    "if len(jamaica) > 1: print(\"Jamaica tiene más de un estimado\")"
   ]
  },
  {
   "cell_type": "code",
   "execution_count": 59,
   "metadata": {},
   "outputs": [
    {
     "name": "stdout",
     "output_type": "stream",
     "text": [
      "Italy tiene más de 0 estimados\n"
     ]
    }
   ],
   "source": [
    "# **Advertencia de lógica incorrecta** if len(italy) > 0: print(\"Italy tiene más de 0 estimados\")\n",
    "if len(italy) > 0: \n",
    "    print(\"Italy tiene más de 0 estimados\")\n",
    "elif len(jamaica) > 0: \n",
    "    print(\"Jamaica tiene más de 0 estimados\") \n",
    "else: \n",
    "    print(\"esto sólo se ejecutará si ninguna de las líneas anteriores lo hace\")"
   ]
  },
  {
   "cell_type": "code",
   "execution_count": 62,
   "metadata": {},
   "outputs": [
    {
     "name": "stdout",
     "output_type": "stream",
     "text": [
      "adicionando la media para  Australia\n",
      "adicionando la media para  France\n",
      "....saliendo  Italy\n",
      "adicionando la media para  Brazil\n",
      "adicionando la media para  USA\n",
      "....saliendo  England\n",
      "adicionando la media para  Canada\n",
      "....saliendo  Argentina\n",
      "adicionando la media para  Greece\n",
      "....saliendo  Morocco\n",
      "adicionando la media para  Tunisia\n",
      "....saliendo  Egypt\n",
      "adicionando la media para  Jamaica\n",
      "adicionando la media para  Switzerland\n",
      "adicionando la media para  Germany\n"
     ]
    }
   ],
   "source": [
    "# Obtiene una lista de todos los nombres de los países \n",
    "lista_nombres_paises = list(estimados_de_exito.keys())\n",
    "# Crea un diccionario vacío para guardar las estimaciones de las medias de los países \n",
    "media_paises = {}\n",
    "# Pasa por todos los países y calcula su promedio de éxito estimado \n",
    "for i in lista_nombres_paises: \n",
    "    lista_estimado_paises = estimados_de_exito[i] \n",
    "    # lista de estimaciones para un país\n",
    "    # si se estima más de un país, entonces registra la estimación media, si no, pasa␣a la siguiente iteración del bucle \n",
    "    if len(estimados_de_exito[i]) > 1: \n",
    "        print(\"adicionando la media para \",i) \n",
    "        valor_media_pais = sum(lista_estimado_paises) / len(lista_estimado_paises) \n",
    "        media_paises[i] = valor_media_pais \n",
    "        # inserta el valor medio del país en elndiccionario usando el nombre del país como llave \n",
    "    else: print(\"....saliendo \", i)"
   ]
  },
  {
   "cell_type": "code",
   "execution_count": 63,
   "metadata": {},
   "outputs": [
    {
     "name": "stdout",
     "output_type": "stream",
     "text": [
      "País: Australia, Promedio de estimados de éxito: 0.30\n",
      "País: France, Promedio de estimados de éxito: 0.66\n",
      "País: Brazil, Promedio de estimados de éxito: 0.29\n",
      "País: USA, Promedio de estimados de éxito: 0.33\n",
      "País: Canada, Promedio de estimados de éxito: 0.28\n",
      "País: Greece, Promedio de estimados de éxito: 0.61\n",
      "País: Tunisia, Promedio de estimados de éxito: 0.62\n",
      "País: Jamaica, Promedio de estimados de éxito: 0.66\n",
      "País: Switzerland, Promedio de estimados de éxito: 0.79\n",
      "País: Germany, Promedio de estimados de éxito: 0.43\n"
     ]
    }
   ],
   "source": [
    "# Formato agradable del resultado para imprimirlo en la pantalla \n",
    "for llave_pais in media_paises: \n",
    "    print('País: {0:s}, Promedio de estimados de éxito: {1:.2f}'.format(llave_pais, media_paises[llave_pais]))"
   ]
  },
  {
   "cell_type": "code",
   "execution_count": 64,
   "metadata": {},
   "outputs": [
    {
     "name": "stdout",
     "output_type": "stream",
     "text": [
      "Australia, promedio: 0.30\n",
      "France, promedio: 0.66\n",
      "El país Italy no cuumple con las políticas de selección\n",
      "Brazil, promedio: 0.29\n",
      "USA, promedio: 0.33\n",
      "El país England no cuumple con las políticas de selección\n",
      "El país Canada no cuumple con las políticas de selección\n",
      "El país Argentina no cuumple con las políticas de selección\n",
      "Greece, promedio: 0.61\n",
      "El país Morocco no cuumple con las políticas de selección\n",
      "El país Tunisia no cuumple con las políticas de selección\n",
      "El país Egypt no cuumple con las políticas de selección\n",
      "Jamaica, promedio: 0.66\n",
      "Switzerland, promedio: 0.79\n",
      "Germany, promedio: 0.43\n"
     ]
    }
   ],
   "source": [
    "country_means = {}\n",
    "for i in  estimados_de_exito:\n",
    "    if len(estimados_de_exito[i]) > 2:\n",
    "        print('{0:s}, promedio: {1:.2f}'.format(i, sum(estimados_de_exito[i]) / len(estimados_de_exito[i])))\n",
    "    else:\n",
    "        print('El país {0:s} no cuumple con las políticas de selección'.format(i))"
   ]
  },
  {
   "cell_type": "code",
   "execution_count": 66,
   "metadata": {},
   "outputs": [
    {
     "name": "stdout",
     "output_type": "stream",
     "text": [
      "France marcado con rango  0.78\n",
      "Greece marcado con rango  0.84\n"
     ]
    }
   ],
   "source": [
    "for pais in estimados_de_exito:\n",
    "    rango = max(estimados_de_exito[pais]) - min(estimados_de_exito[pais])\n",
    "    if rango > 0.6:\n",
    "        print(pais, 'marcado con rango ', rango)"
   ]
  },
  {
   "cell_type": "code",
   "execution_count": 11,
   "metadata": {},
   "outputs": [
    {
     "name": "stdout",
     "output_type": "stream",
     "text": [
      "País: Australia , Mínimo:  0.11 , Promedio:  0.295 , Máximo:  0.6 , Medidas: 4 , Cumple con la política:  Si\n",
      "País: France , Mínimo:  0.2 , Promedio:  0.655 , Máximo:  0.98 , Medidas: 4 , Cumple con la política:  Si\n",
      "País: Italy , Mínimo:  0.6 , Promedio:  0.6 , Máximo:  0.6 , Medidas: 1 , Cumple con la política:  No\n",
      "País: Brazil , Mínimo:  0.22 , Promedio:  0.29 , Máximo:  0.43 , Medidas: 3 , Cumple con la política:  Si\n",
      "País: USA , Mínimo:  0.2 , Promedio:  0.333 , Máximo:  0.5 , Medidas: 3 , Cumple con la política:  Si\n",
      "País: England , Mínimo:  0.45 , Promedio:  0.45 , Máximo:  0.45 , Medidas: 1 , Cumple con la política:  No\n",
      "País: Canada , Mínimo:  0.25 , Promedio:  0.275 , Máximo:  0.3 , Medidas: 2 , Cumple con la política:  No\n",
      "País: Argentina , Mínimo:  0.22 , Promedio:  0.22 , Máximo:  0.22 , Medidas: 1 , Cumple con la política:  No\n",
      "País: Greece , Mínimo:  0.15 , Promedio:  0.61 , Máximo:  0.99 , Medidas: 6 , Cumple con la política:  Si\n",
      "País: Morocco , Mínimo:  0.29 , Promedio:  0.29 , Máximo:  0.29 , Medidas: 1 , Cumple con la política:  No\n",
      "País: Tunisia , Mínimo:  0.56 , Promedio:  0.62 , Máximo:  0.68 , Medidas: 2 , Cumple con la política:  No\n",
      "País: Egypt , Mínimo:  0.99 , Promedio:  0.99 , Máximo:  0.99 , Medidas: 1 , Cumple con la política:  No\n",
      "País: Jamaica , Mínimo:  0.61 , Promedio:  0.657 , Máximo:  0.71 , Medidas: 3 , Cumple con la política:  Si\n",
      "País: Switzerland , Mínimo:  0.51 , Promedio:  0.786 , Máximo:  0.99 , Medidas: 5 , Cumple con la política:  Si\n",
      "País: Germany , Mínimo:  0.36 , Promedio:  0.433 , Máximo:  0.49 , Medidas: 3 , Cumple con la política:  Si\n"
     ]
    }
   ],
   "source": [
    "for pais in estimados_de_exito: \n",
    "    if (len(estimados_de_exito[pais])  > 2) : \n",
    "        Politica = 'Si' \n",
    "    else: \n",
    "        Politica = 'No'\n",
    "    print('País:', pais, ', Mínimo: ', min(estimados_de_exito[pais]), \n",
    "          ', Promedio: ', round(sum(estimados_de_exito[pais]) / len(estimados_de_exito[pais]), 3),\n",
    "          ', Máximo: ', max(estimados_de_exito[pais]),\n",
    "          ', Medidas:', len(estimados_de_exito[pais]),\n",
    "          ', Cumple con la política: ', Politica)"
   ]
  },
  {
   "cell_type": "code",
   "execution_count": 18,
   "metadata": {},
   "outputs": [
    {
     "name": "stdout",
     "output_type": "stream",
     "text": [
      "El país con mayor promedio:  Switzerland  de  0.7859999999999999\n"
     ]
    }
   ],
   "source": [
    "mejor_media = 0\n",
    "for pais in estimados_de_exito: \n",
    "    min_estimado = min(estimados_de_exito[pais]) \n",
    "    media_estimado = sum(estimados_de_exito[pais]) / len(estimados_de_exito[pais]) \n",
    "    max_estimado = max(estimados_de_exito[pais]) \n",
    "    len_estimados = len(estimados_de_exito[pais]) \n",
    "    cumple_politica = len_estimados > 2\n",
    "    if (media_estimado > mejor_media) and cumple_politica: \n",
    "        mejor_media = media_estimado \n",
    "        mejor_pais = pais\n",
    "print('El país con mayor promedio: ', mejor_pais, ' de ', mejor_media)"
   ]
  },
  {
   "cell_type": "code",
   "execution_count": 21,
   "metadata": {},
   "outputs": [
    {
     "name": "stdout",
     "output_type": "stream",
     "text": [
      "País mas seguro:  Jamaica mínimo de 0.61\n"
     ]
    }
   ],
   "source": [
    "minimo_superior = 0\n",
    "for pais in estimados_de_exito: \n",
    "    min_estimado = min(estimados_de_exito[pais]) \n",
    "    media_estimado = sum(estimados_de_exito[pais]) / len(estimados_de_exito[pais]) \n",
    "    max_estimado = max(estimados_de_exito[pais]) \n",
    "    len_estimados = len(estimados_de_exito[pais]) \n",
    "    cumple_politica = len_estimados > 2\n",
    "    if (min_estimado > minimo_superior) and cumple_politica: \n",
    "        minimo_superior = min_estimado \n",
    "        pais_mas_seguro = pais\n",
    "print('País mas seguro: ',  pais_mas_seguro, 'mínimo de', minimo_superior)"
   ]
  },
  {
   "cell_type": "code",
   "execution_count": null,
   "metadata": {},
   "outputs": [],
   "source": []
  }
 ],
 "metadata": {
  "kernelspec": {
   "display_name": "Python 3",
   "language": "python",
   "name": "python3"
  },
  "language_info": {
   "codemirror_mode": {
    "name": "ipython",
    "version": 3
   },
   "file_extension": ".py",
   "mimetype": "text/x-python",
   "name": "python",
   "nbconvert_exporter": "python",
   "pygments_lexer": "ipython3",
   "version": "3.6.7"
  }
 },
 "nbformat": 4,
 "nbformat_minor": 2
}
